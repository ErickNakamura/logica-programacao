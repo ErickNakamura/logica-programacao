{
  "nbformat": 4,
  "nbformat_minor": 0,
  "metadata": {
    "colab": {
      "provenance": [],
      "authorship_tag": "ABX9TyOg6Zk2G0xhj3DWI94vGkMP",
      "include_colab_link": true
    },
    "kernelspec": {
      "name": "python3",
      "display_name": "Python 3"
    },
    "language_info": {
      "name": "python"
    }
  },
  "cells": [
    {
      "cell_type": "markdown",
      "metadata": {
        "id": "view-in-github",
        "colab_type": "text"
      },
      "source": [
        "<a href=\"https://colab.research.google.com/github/ErickNakamura/Cartorioebac/blob/main/Operadores_e_Vari%C3%A1veis.ipynb\" target=\"_parent\"><img src=\"https://colab.research.google.com/assets/colab-badge.svg\" alt=\"Open In Colab\"/></a>"
      ]
    },
    {
      "cell_type": "markdown",
      "source": [
        "#Operadores Aritméticos"
      ],
      "metadata": {
        "id": "ay4EnZlL7Uut"
      }
    },
    {
      "cell_type": "code",
      "source": [
        "[1] # Adição\n",
        "10 + 2"
      ],
      "metadata": {
        "colab": {
          "base_uri": "https://localhost:8080/"
        },
        "id": "zgB1Pw8u4_wd",
        "outputId": "efaf43d0-ca75-4208-c638-b509ff2f2dde"
      },
      "execution_count": 9,
      "outputs": [
        {
          "output_type": "execute_result",
          "data": {
            "text/plain": [
              "12"
            ]
          },
          "metadata": {},
          "execution_count": 9
        }
      ]
    },
    {
      "cell_type": "code",
      "source": [
        "[2] # Subtração\n",
        "10 - 2"
      ],
      "metadata": {
        "id": "3h7WW69V7aeG"
      },
      "execution_count": null,
      "outputs": []
    },
    {
      "cell_type": "code",
      "source": [
        "[3] # Multiplicação\n",
        "10 * 2"
      ],
      "metadata": {
        "colab": {
          "base_uri": "https://localhost:8080/"
        },
        "collapsed": true,
        "id": "IwrS_VE08LpR",
        "outputId": "5c78f835-4702-4456-b5cd-77b61cf3aae1"
      },
      "execution_count": 11,
      "outputs": [
        {
          "output_type": "execute_result",
          "data": {
            "text/plain": [
              "20"
            ]
          },
          "metadata": {},
          "execution_count": 11
        }
      ]
    },
    {
      "cell_type": "code",
      "source": [
        "[4] # Divisão\n",
        "10 / 2"
      ],
      "metadata": {
        "id": "oTXfm_Ca8mq7"
      },
      "execution_count": null,
      "outputs": []
    },
    {
      "cell_type": "code",
      "source": [
        "[5] # Divisão Inteira\n",
        "10//2"
      ],
      "metadata": {
        "id": "_M9MOPBO8rHq"
      },
      "execution_count": null,
      "outputs": []
    },
    {
      "cell_type": "code",
      "source": [
        "[6] # Resto da Divisão\n",
        "10 % 2"
      ],
      "metadata": {
        "id": "-2WUzQN38_WQ"
      },
      "execution_count": null,
      "outputs": []
    },
    {
      "cell_type": "code",
      "source": [
        "[7] # Potenciação\n",
        "10 ** 2"
      ],
      "metadata": {
        "id": "7i8sTzd59GKv"
      },
      "execution_count": null,
      "outputs": []
    },
    {
      "cell_type": "markdown",
      "source": [
        "#Operadores Relacionais"
      ],
      "metadata": {
        "id": "tEithjSt9PkQ"
      }
    },
    {
      "cell_type": "code",
      "source": [
        "# Menor\n",
        "10 < 2"
      ],
      "metadata": {
        "colab": {
          "base_uri": "https://localhost:8080/"
        },
        "id": "vDXApKC69Vhk",
        "outputId": "a410c46a-60b4-442c-a69a-88cb2b5d5231"
      },
      "execution_count": 12,
      "outputs": [
        {
          "output_type": "execute_result",
          "data": {
            "text/plain": [
              "False"
            ]
          },
          "metadata": {},
          "execution_count": 12
        }
      ]
    },
    {
      "cell_type": "code",
      "source": [
        "# Menor ou Igual\n",
        "10 <= 2"
      ],
      "metadata": {
        "id": "etHTgAkd9cUW"
      },
      "execution_count": null,
      "outputs": []
    },
    {
      "cell_type": "code",
      "source": [
        "# Maior\n",
        "10 > 2"
      ],
      "metadata": {
        "id": "8KeYNEdB9iUH"
      },
      "execution_count": null,
      "outputs": []
    },
    {
      "cell_type": "code",
      "source": [
        "# Maior ou Igual\n",
        "10 >= 2"
      ],
      "metadata": {
        "id": "PatKYEWk9mYc"
      },
      "execution_count": null,
      "outputs": []
    },
    {
      "cell_type": "code",
      "source": [
        "# Igual\n",
        "7 == 7"
      ],
      "metadata": {
        "id": "8b0LQVmd9thf"
      },
      "execution_count": null,
      "outputs": []
    },
    {
      "cell_type": "code",
      "source": [
        "# Diferente\n",
        "7 != 7"
      ],
      "metadata": {
        "id": "JzAnOfN-9xh1"
      },
      "execution_count": null,
      "outputs": []
    },
    {
      "cell_type": "markdown",
      "source": [
        "#Tabela Verdade"
      ],
      "metadata": {
        "id": "m-OgGtmy-fhp"
      }
    },
    {
      "cell_type": "markdown",
      "source": [
        "##And"
      ],
      "metadata": {
        "id": "5ZQahaTG-mOg"
      }
    },
    {
      "cell_type": "code",
      "source": [
        "print(10 > 2 and 4 < 6)   # V and V - V\n",
        "print(10 > 2 and 4 > 6)   # V and F - F\n",
        "print(10 < 2 and 4 < 6)   # F and V - F\n",
        "print(10 < 2 and 4 > 6)   # F and F - F"
      ],
      "metadata": {
        "id": "EEmM4oLA-nzo"
      },
      "execution_count": null,
      "outputs": []
    },
    {
      "cell_type": "markdown",
      "source": [
        "##Or"
      ],
      "metadata": {
        "id": "Ptud_P4S_0DL"
      }
    },
    {
      "cell_type": "code",
      "source": [
        "print(10 > 2 or 4 < 6)    # V or V - V\n",
        "print(10 > 2 or 4 > 6)    # V or F - V\n",
        "print(10 < 2 or 4 < 6)    # F or V - V\n",
        "print(10 < 2 or 4 > 6)    # F or F - F"
      ],
      "metadata": {
        "id": "egQK6e7n_3CA"
      },
      "execution_count": null,
      "outputs": []
    },
    {
      "cell_type": "markdown",
      "source": [
        "##Not"
      ],
      "metadata": {
        "id": "cG2KNMipAv_F"
      }
    },
    {
      "cell_type": "code",
      "source": [
        "not 10 > 2    # V - F"
      ],
      "metadata": {
        "id": "_QVFrCHXAx6M"
      },
      "execution_count": null,
      "outputs": []
    },
    {
      "cell_type": "code",
      "source": [
        "not 10 < 2    # F - V"
      ],
      "metadata": {
        "id": "35hKWhlKBAIX"
      },
      "execution_count": null,
      "outputs": []
    }
  ]
}