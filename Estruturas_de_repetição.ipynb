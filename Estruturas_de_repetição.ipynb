{
  "nbformat": 4,
  "nbformat_minor": 0,
  "metadata": {
    "colab": {
      "provenance": []
    },
    "kernelspec": {
      "name": "python3",
      "display_name": "Python 3"
    },
    "language_info": {
      "name": "python"
    }
  },
  "cells": [
    {
      "cell_type": "markdown",
      "source": [
        "#Estrutura de repetição"
      ],
      "metadata": {
        "id": "O8t-hRG2yTs4"
      }
    },
    {
      "cell_type": "markdown",
      "source": [
        "##For"
      ],
      "metadata": {
        "id": "6d27Kh6AyX6v"
      }
    },
    {
      "cell_type": "code",
      "source": [
        "# For Range\n",
        "for contador in range(10):\n",
        "  print(contador)"
      ],
      "metadata": {
        "id": "eJt6ttq2yZSw"
      },
      "execution_count": null,
      "outputs": []
    },
    {
      "cell_type": "code",
      "source": [
        "# For Range + Break\n",
        "for contador in range(1000):\n",
        "  print(contador)\n",
        "  if contador == 7:\n",
        "    break"
      ],
      "metadata": {
        "id": "mT0b1bKAy6rr"
      },
      "execution_count": null,
      "outputs": []
    },
    {
      "cell_type": "code",
      "source": [
        "lista1 = [\"teste1\", \"teste2\"]"
      ],
      "metadata": {
        "id": "q67uRvE6zPv5"
      },
      "execution_count": null,
      "outputs": []
    },
    {
      "cell_type": "code",
      "source": [
        "# For simples, Aqui printamos todos os itens de uma lista\n",
        "for val in lista1:\n",
        "  print(val)"
      ],
      "metadata": {
        "id": "Jtuy4Cxw0PC5"
      },
      "execution_count": null,
      "outputs": []
    },
    {
      "cell_type": "code",
      "source": [
        "# For com enumerate, Aqui printamos todos os itens de uma lista com o número de sua ordem\n",
        "for i, val in enumerate(lista1): #Aqui utilizamos o \"i\" (índice) para atrelar ao contador\n",
        "  print(i, val)"
      ],
      "metadata": {
        "id": "kj5Y8wIh0hqc"
      },
      "execution_count": null,
      "outputs": []
    },
    {
      "cell_type": "code",
      "source": [
        "# For com operadores compostos\n",
        "lista3 = [2, 3, 4]"
      ],
      "metadata": {
        "id": "Jmkp38rP2Gw0"
      },
      "execution_count": null,
      "outputs": []
    },
    {
      "cell_type": "code",
      "source": [
        "for val in lista3:\n",
        "  val += 1 # Aqui simplificamos (val = val+1)\n",
        "  print(val)"
      ],
      "metadata": {
        "id": "UhefT6Sq2PNk"
      },
      "execution_count": null,
      "outputs": []
    },
    {
      "cell_type": "code",
      "source": [
        "for val in lista3:\n",
        "  val *= 2\n",
        "  print(val)"
      ],
      "metadata": {
        "id": "sRT8u7sj2sZC"
      },
      "execution_count": null,
      "outputs": []
    },
    {
      "cell_type": "markdown",
      "source": [
        "#While"
      ],
      "metadata": {
        "id": "PVN7zQmO4ATe"
      }
    },
    {
      "cell_type": "code",
      "source": [
        "val = 1\n",
        "while (val < 6): # Aqui colocamos a condição de multiplicar até o número 6\n",
        "  val *=2\n",
        "  print(val)"
      ],
      "metadata": {
        "id": "rMpkdP1v4CIu"
      },
      "execution_count": null,
      "outputs": []
    },
    {
      "cell_type": "code",
      "source": [
        "# While com else\n",
        "val = 4\n",
        "while val < 10: #Aqui colocamos a condição de multiplicar val até o número 10\n",
        "  val *=2\n",
        "else:\n",
        "  print(\"Valor de val é: \", val)"
      ],
      "metadata": {
        "id": "sQ7gPjUy4lCd"
      },
      "execution_count": null,
      "outputs": []
    },
    {
      "cell_type": "markdown",
      "source": [
        "#Exercício\n",
        "##Estrutura de repetição"
      ],
      "metadata": {
        "id": "caXV_LHMqiJc"
      }
    },
    {
      "cell_type": "code",
      "source": [
        "notas = [85, 92, 78, 90, 88] #Aqui inserimos os valores das notas\n",
        "soma = 0\n",
        "for nota in notas:\n",
        "  soma += nota\n",
        "media = soma / len(notas) #Aqui a média é a soma das notas divididas pela quantidade de notas\n",
        "\n",
        "alunos_aprovados = []\n",
        "alunos_reprovados = []\n",
        "\n",
        "for nota in notas:\n",
        "  if nota >= media: #Aqui a nota terá que ser maior ou igual a média\n",
        "    alunos_aprovados.append(nota) #O append é utilizado para adicionar um elemento\n",
        "  else:\n",
        "    alunos_reprovados.append(nota)\n",
        "\n",
        "print(\"Notas dos alunos: \",notas)\n",
        "print(\"Média das notas: \",media)\n",
        "print(\"Alunos aprovados: \",alunos_aprovados)\n",
        "print(\"Alunos reprovados: \",alunos_reprovados)"
      ],
      "metadata": {
        "id": "DngjmkL2qp31"
      },
      "execution_count": null,
      "outputs": []
    }
  ]
}