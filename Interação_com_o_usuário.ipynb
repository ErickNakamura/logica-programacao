{
  "nbformat": 4,
  "nbformat_minor": 0,
  "metadata": {
    "colab": {
      "provenance": []
    },
    "kernelspec": {
      "name": "python3",
      "display_name": "Python 3"
    },
    "language_info": {
      "name": "python"
    }
  },
  "cells": [
    {
      "cell_type": "code",
      "execution_count": null,
      "metadata": {
        "id": "bFxVsAMadlfE"
      },
      "outputs": [],
      "source": []
    },
    {
      "cell_type": "markdown",
      "source": [
        "#Visualização de Variáveis e textos"
      ],
      "metadata": {
        "id": "WSnis7BnGEWY"
      }
    },
    {
      "cell_type": "code",
      "source": [
        "print(\"Conhecendo o somando print\")\n",
        "\n",
        "x = 8\n",
        "print(x)"
      ],
      "metadata": {
        "id": "AHAfTkI4GIXg",
        "collapsed": true
      },
      "execution_count": null,
      "outputs": []
    },
    {
      "cell_type": "code",
      "source": [
        "y = 10\n",
        "soma = x + y\n",
        "print(soma)"
      ],
      "metadata": {
        "id": "J4ntryFSGQja"
      },
      "execution_count": null,
      "outputs": []
    },
    {
      "cell_type": "code",
      "source": [
        "nome = \"Erick Nakamura\"\n",
        "print(nome)"
      ],
      "metadata": {
        "id": "E_TZe9MLHysz"
      },
      "execution_count": null,
      "outputs": []
    },
    {
      "cell_type": "markdown",
      "source": [
        "##Concatenação"
      ],
      "metadata": {
        "id": "qaYxqwDpGdMA"
      }
    },
    {
      "cell_type": "code",
      "source": [
        "x = 5\n",
        "print(\"O valor de x é \", x)"
      ],
      "metadata": {
        "id": "tjHcT64qGgbY"
      },
      "execution_count": null,
      "outputs": []
    },
    {
      "cell_type": "code",
      "source": [
        "print(\"O valor de x é\", x, \"e o dobro é\", x * 2)"
      ],
      "metadata": {
        "id": "JVLcSgmtGuhL"
      },
      "execution_count": null,
      "outputs": []
    },
    {
      "cell_type": "code",
      "source": [
        "print(\"Eu,\", nome, \"tirei\", x, \"na prova de Python\")"
      ],
      "metadata": {
        "id": "W6IPX6EiHHfy"
      },
      "execution_count": null,
      "outputs": []
    },
    {
      "cell_type": "code",
      "source": [
        "y = 10; z = 20 + x - y\n",
        "print(\"Declarar várias variáveis na mesma linha:\", y, z)"
      ],
      "metadata": {
        "id": "pvMveBPqHXfC"
      },
      "execution_count": null,
      "outputs": []
    },
    {
      "cell_type": "markdown",
      "source": [
        "##Type"
      ],
      "metadata": {
        "id": "KxRRzKdIJKCu"
      }
    },
    {
      "cell_type": "code",
      "source": [
        "x = 10\n",
        "type(x)\n",
        "print(\"x\", type(x))\n",
        "\n",
        "nome = \"Erick\"\n",
        "print(\"nome\", type(nome))\n",
        "\n",
        "num = \"100\"\n",
        "num_convert = int(num)    #Converter variável\n",
        "print(\"num\", type(num))\n",
        "print(\"num_convert\", type(num_convert))\n",
        "\n",
        "num_float = float(num)\n",
        "print(\"num_float\", type(num_float), num_float)"
      ],
      "metadata": {
        "id": "Q3tSf4tAJNy4"
      },
      "execution_count": null,
      "outputs": []
    },
    {
      "cell_type": "markdown",
      "source": [
        "##Input\n",
        "\n",
        "\n",
        "*   Armazenar a informação digitada pelo usuário em uma variável\n",
        "*   O dado armazenado sempre será um texto\n",
        "\n"
      ],
      "metadata": {
        "id": "VGmqcYleKsz2"
      }
    },
    {
      "cell_type": "code",
      "source": [
        "nome = input(\"Digite o nome do usuário \")    #E aguarde o usuário digitar algo\n",
        "print(nome)"
      ],
      "metadata": {
        "id": "4_2qYUz0K6YE"
      },
      "execution_count": null,
      "outputs": []
    },
    {
      "cell_type": "code",
      "source": [
        "valor = input(\"Digite a nota \")\n",
        "print(nome, \"sua nota foi\", valor)"
      ],
      "metadata": {
        "id": "GKpsaYflLJFx"
      },
      "execution_count": null,
      "outputs": []
    },
    {
      "cell_type": "code",
      "source": [
        "valor = input(\"Digite o valor do produto: \")\n",
        "print(valor)"
      ],
      "metadata": {
        "id": "cE_8eN7qLbpv"
      },
      "execution_count": null,
      "outputs": []
    },
    {
      "cell_type": "code",
      "source": [
        "desconto = valor - 5    #Aqui mostra o erro de Type"
      ],
      "metadata": {
        "id": "0E3Fkw5TLnEN"
      },
      "execution_count": null,
      "outputs": []
    },
    {
      "cell_type": "code",
      "source": [
        "valor_convert = int(valor)\n",
        "desconto = valor_convert - 5\n",
        "print(desconto)"
      ],
      "metadata": {
        "id": "n0rZJ7RpLsJe"
      },
      "execution_count": null,
      "outputs": []
    },
    {
      "cell_type": "code",
      "source": [
        "desconto = int(valor) - 5\n",
        "print(desconto)"
      ],
      "metadata": {
        "id": "3Di_PpISMrUC"
      },
      "execution_count": null,
      "outputs": []
    }
  ]
}