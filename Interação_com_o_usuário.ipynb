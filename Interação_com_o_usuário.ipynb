{
  "nbformat": 4,
  "nbformat_minor": 0,
  "metadata": {
    "colab": {
      "provenance": [],
      "authorship_tag": "ABX9TyMDLa2uPW6JSvmnQrj86HxX"
    },
    "kernelspec": {
      "name": "python3",
      "display_name": "Python 3"
    },
    "language_info": {
      "name": "python"
    }
  },
  "cells": [
    {
      "cell_type": "code",
      "execution_count": null,
      "metadata": {
        "id": "bFxVsAMadlfE"
      },
      "outputs": [],
      "source": []
    },
    {
      "cell_type": "markdown",
      "source": [
        "#Visualização de Variáveis e textos"
      ],
      "metadata": {
        "id": "WSnis7BnGEWY"
      }
    },
    {
      "cell_type": "code",
      "source": [
        "print(\"Conhecendo o somando print\")\n",
        "\n",
        "x = 8\n",
        "print(x)"
      ],
      "metadata": {
        "colab": {
          "base_uri": "https://localhost:8080/"
        },
        "id": "AHAfTkI4GIXg",
        "outputId": "241ef76e-1947-4586-82c2-e1a420229450"
      },
      "execution_count": null,
      "outputs": [
        {
          "output_type": "stream",
          "name": "stdout",
          "text": [
            "Conhecendo o somando print\n",
            "8\n"
          ]
        }
      ]
    },
    {
      "cell_type": "code",
      "source": [
        "y = 10\n",
        "soma = x + y\n",
        "print(soma)"
      ],
      "metadata": {
        "colab": {
          "base_uri": "https://localhost:8080/"
        },
        "id": "J4ntryFSGQja",
        "outputId": "f9118171-0b4e-492d-9e39-1229b15a80fe"
      },
      "execution_count": null,
      "outputs": [
        {
          "output_type": "stream",
          "name": "stdout",
          "text": [
            "18\n"
          ]
        }
      ]
    },
    {
      "cell_type": "code",
      "source": [
        "nome = \"Erick Nakamura\"\n",
        "print(nome)"
      ],
      "metadata": {
        "id": "E_TZe9MLHysz"
      },
      "execution_count": null,
      "outputs": []
    },
    {
      "cell_type": "markdown",
      "source": [
        "##Concatenação"
      ],
      "metadata": {
        "id": "qaYxqwDpGdMA"
      }
    },
    {
      "cell_type": "code",
      "source": [
        "x = 5\n",
        "print(\"O valor de x é \", x)"
      ],
      "metadata": {
        "colab": {
          "base_uri": "https://localhost:8080/"
        },
        "id": "tjHcT64qGgbY",
        "outputId": "59ded9ca-c820-45b8-eb6b-ff4323dcbac4"
      },
      "execution_count": null,
      "outputs": [
        {
          "output_type": "stream",
          "name": "stdout",
          "text": [
            "O valor de x é  5\n"
          ]
        }
      ]
    },
    {
      "cell_type": "code",
      "source": [
        "print(\"O valor de x é\", x, \"e o dobro é\", x * 2)"
      ],
      "metadata": {
        "id": "JVLcSgmtGuhL"
      },
      "execution_count": null,
      "outputs": []
    },
    {
      "cell_type": "code",
      "source": [
        "print(\"Eu,\", nome, \"tirei\", x, \"na prova de Python\")"
      ],
      "metadata": {
        "id": "W6IPX6EiHHfy"
      },
      "execution_count": null,
      "outputs": []
    },
    {
      "cell_type": "code",
      "source": [
        "y = 10; z = 20 + x - y\n",
        "print(\"Declarar várias variáveis na mesma linha:\", y, z)"
      ],
      "metadata": {
        "colab": {
          "base_uri": "https://localhost:8080/"
        },
        "id": "pvMveBPqHXfC",
        "outputId": "3dcf6709-6593-4303-eb92-58e50c12275e"
      },
      "execution_count": null,
      "outputs": [
        {
          "output_type": "stream",
          "name": "stdout",
          "text": [
            "Declarar várias variáveis na mesma linha: 10 15\n"
          ]
        }
      ]
    },
    {
      "cell_type": "markdown",
      "source": [
        "##Type"
      ],
      "metadata": {
        "id": "KxRRzKdIJKCu"
      }
    },
    {
      "cell_type": "code",
      "source": [
        "x = 10\n",
        "type(x)\n",
        "print(\"x\", type(x))\n",
        "\n",
        "nome = \"Erick\"\n",
        "print(\"nome\", type(nome))\n",
        "\n",
        "num = \"100\"\n",
        "num_convert = int(num)    #Converter variável\n",
        "print(\"num\", type(num))\n",
        "print(\"num_convert\", type(num_convert))\n",
        "\n",
        "num_float = float(num)\n",
        "print(\"num_float\", type(num_float), num_float)"
      ],
      "metadata": {
        "id": "Q3tSf4tAJNy4"
      },
      "execution_count": null,
      "outputs": []
    },
    {
      "cell_type": "markdown",
      "source": [
        "##Input\n",
        "\n",
        "\n",
        "*   Armazenar a informação digitada pelo usuário em uma variável\n",
        "*   O dado armazenado sempre será um texto\n",
        "\n"
      ],
      "metadata": {
        "id": "VGmqcYleKsz2"
      }
    },
    {
      "cell_type": "code",
      "source": [
        "nome = input(\"Digite o nome do usuário \")    #E aguarde o usuário digitar algo\n",
        "print(nome)"
      ],
      "metadata": {
        "colab": {
          "base_uri": "https://localhost:8080/"
        },
        "id": "4_2qYUz0K6YE",
        "outputId": "46109299-d59e-447c-fe30-71cb5077fa57"
      },
      "execution_count": 1,
      "outputs": [
        {
          "output_type": "stream",
          "name": "stdout",
          "text": [
            "Digite o nome do usuário Erick\n",
            "Erick\n"
          ]
        }
      ]
    },
    {
      "cell_type": "code",
      "source": [
        "valor = input(\"Digite a nota \")\n",
        "print(nome, \"sua nota foi\", valor)"
      ],
      "metadata": {
        "colab": {
          "base_uri": "https://localhost:8080/"
        },
        "id": "GKpsaYflLJFx",
        "outputId": "0ed72db4-ee87-40e0-f4b1-bfbe413f122d"
      },
      "execution_count": 2,
      "outputs": [
        {
          "output_type": "stream",
          "name": "stdout",
          "text": [
            "Digite a nota 9\n",
            "Erick sua nota foi 9\n"
          ]
        }
      ]
    },
    {
      "cell_type": "code",
      "source": [
        "valor = input(\"Digite o valor do produto: \")\n",
        "print(valor)"
      ],
      "metadata": {
        "id": "cE_8eN7qLbpv"
      },
      "execution_count": null,
      "outputs": []
    },
    {
      "cell_type": "code",
      "source": [
        "desconto = valor - 5    #Aqui mostra o erro de Type"
      ],
      "metadata": {
        "id": "0E3Fkw5TLnEN"
      },
      "execution_count": null,
      "outputs": []
    },
    {
      "cell_type": "code",
      "source": [
        "valor_convert = int(valor)\n",
        "desconto = valor_convert - 5\n",
        "print(desconto)"
      ],
      "metadata": {
        "id": "n0rZJ7RpLsJe"
      },
      "execution_count": null,
      "outputs": []
    },
    {
      "cell_type": "code",
      "source": [
        "desconto = int(valor) - 5\n",
        "print(desconto)"
      ],
      "metadata": {
        "id": "3Di_PpISMrUC"
      },
      "execution_count": null,
      "outputs": []
    }
  ]
}