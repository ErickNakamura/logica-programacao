{
  "nbformat": 4,
  "nbformat_minor": 0,
  "metadata": {
    "colab": {
      "provenance": []
    },
    "kernelspec": {
      "name": "python3",
      "display_name": "Python 3"
    },
    "language_info": {
      "name": "python"
    }
  },
  "cells": [
    {
      "cell_type": "markdown",
      "source": [
        "##If"
      ],
      "metadata": {
        "id": "_9PoxyqBkZqJ"
      }
    },
    {
      "cell_type": "code",
      "source": [
        "#If\n",
        "if 5 < 10:\n",
        "  print(\"Verdadeiro\")"
      ],
      "metadata": {
        "id": "5Q1oMQ59kYkx"
      },
      "execution_count": null,
      "outputs": []
    },
    {
      "cell_type": "code",
      "source": [
        "#if/else\n",
        "num1 = 10\n",
        "num2 = 5\n",
        "if num1 > num2:\n",
        "  print(\"O num1 é o maior número\")\n",
        "else:\n",
        "  print(\"O num2 é o maior número\")"
      ],
      "metadata": {
        "collapsed": true,
        "id": "vZBioyyslQox"
      },
      "execution_count": null,
      "outputs": []
    },
    {
      "cell_type": "code",
      "source": [
        "#if/elif/else\n",
        "num1 = 10\n",
        "num2 = 10\n",
        "if num1 > num2:\n",
        "  print(\"O num1 é o maior número\")\n",
        "elif num1 < num2:\n",
        "  print(\"O num2 é o maior número\")\n",
        "else:\n",
        "  print(\"Os dois são iguais\")"
      ],
      "metadata": {
        "id": "UPpp8g-Pl9v0"
      },
      "execution_count": null,
      "outputs": []
    },
    {
      "cell_type": "markdown",
      "source": [
        "##Condicional com operadores lógicos"
      ],
      "metadata": {
        "id": "hC17AgaanOnp"
      }
    },
    {
      "cell_type": "code",
      "source": [
        "num1 = 10\n",
        "num2 = 5\n",
        "num3 = 2\n",
        "if (num1 > num2) and (num1 > num3):\n",
        "  print(\"O num1 é o maior número\")\n",
        "elif(num2 > num1) and (num2 > num3):\n",
        "  print(\"O num2 é o maior número\")\n",
        "elif(num3 > num1) and (num3 > num2):\n",
        "  print(\"O num3 é o maior número\")\n",
        "else:\n",
        "  print(\"Os três são iguais\")"
      ],
      "metadata": {
        "id": "e02cg96AnSaA"
      },
      "execution_count": null,
      "outputs": []
    },
    {
      "cell_type": "code",
      "source": [
        "num1 = input(\"Digite o primeiro número \")\n",
        "print(num1)\n",
        "num2 = input(\"Digite o segundo número \")\n",
        "print(num2)\n",
        "num3 = input(\"Digite o terceiro número \")\n",
        "print(num3)\n",
        "if (num1 > num2) and (num1 > num3):\n",
        "  print(\"O primeiro número é o maior!\")\n",
        "elif (num2 > num1) and (num2 > num3):\n",
        "  print(\"O segundo número é o maior!\")\n",
        "elif (num3 > num1) and (num3 > num2):\n",
        "  print(\"O terceiro número é o maior!\")\n",
        "else:\n",
        "  print(\"Os três números são iguais\")"
      ],
      "metadata": {
        "id": "TgrorFt2pY1I"
      },
      "execution_count": null,
      "outputs": []
    }
  ]
}